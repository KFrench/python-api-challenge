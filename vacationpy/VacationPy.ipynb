{
 "cells": [
  {
   "cell_type": "markdown",
   "metadata": {},
   "source": [
    "# VacationPy\n",
    "----\n",
    "\n",
    "#### Note\n",
    "* Instructions have been included for each segment. You do not have to follow them exactly, but they are included to help you think through the steps."
   ]
  },
  {
   "cell_type": "code",
   "execution_count": 1,
   "metadata": {},
   "outputs": [],
   "source": [
    "# Dependencies and Setup\n",
    "import matplotlib.pyplot as plt\n",
    "import pandas as pd\n",
    "import numpy as np\n",
    "import requests\n",
    "import gmaps\n",
    "import os\n",
    "from pprint import pprint \n",
    "\n",
    "# Import API key\n",
    "from api_keys import g_key\n"
   ]
  },
  {
   "cell_type": "markdown",
   "metadata": {},
   "source": [
    "### Store Part I results into DataFrame\n",
    "* Load the csv exported in Part I to a DataFrame"
   ]
  },
  {
   "cell_type": "code",
   "execution_count": 2,
   "metadata": {
    "scrolled": true
   },
   "outputs": [
    {
     "data": {
      "text/html": [
       "<div>\n",
       "<style scoped>\n",
       "    .dataframe tbody tr th:only-of-type {\n",
       "        vertical-align: middle;\n",
       "    }\n",
       "\n",
       "    .dataframe tbody tr th {\n",
       "        vertical-align: top;\n",
       "    }\n",
       "\n",
       "    .dataframe thead th {\n",
       "        text-align: right;\n",
       "    }\n",
       "</style>\n",
       "<table border=\"1\" class=\"dataframe\">\n",
       "  <thead>\n",
       "    <tr style=\"text-align: right;\">\n",
       "      <th></th>\n",
       "      <th>City</th>\n",
       "      <th>Country</th>\n",
       "      <th>Temperature(F)</th>\n",
       "      <th>Latitude</th>\n",
       "      <th>Longitude</th>\n",
       "      <th>Humidity(%)</th>\n",
       "      <th>Cloudiness(%)</th>\n",
       "      <th>Windspeed(mph)</th>\n",
       "    </tr>\n",
       "  </thead>\n",
       "  <tbody>\n",
       "    <tr>\n",
       "      <td>0</td>\n",
       "      <td>hilo</td>\n",
       "      <td>US</td>\n",
       "      <td>62.11</td>\n",
       "      <td>19.73</td>\n",
       "      <td>-155.09</td>\n",
       "      <td>64.0</td>\n",
       "      <td>90.0</td>\n",
       "      <td>8.05</td>\n",
       "    </tr>\n",
       "    <tr>\n",
       "      <td>1</td>\n",
       "      <td>taolanaro</td>\n",
       "      <td>AU</td>\n",
       "      <td>59.07</td>\n",
       "      <td>-42.78</td>\n",
       "      <td>147.06</td>\n",
       "      <td>67.0</td>\n",
       "      <td>40.0</td>\n",
       "      <td>9.17</td>\n",
       "    </tr>\n",
       "    <tr>\n",
       "      <td>2</td>\n",
       "      <td>new norfolk</td>\n",
       "      <td>BR</td>\n",
       "      <td>89.82</td>\n",
       "      <td>-2.89</td>\n",
       "      <td>-40.12</td>\n",
       "      <td>54.0</td>\n",
       "      <td>32.0</td>\n",
       "      <td>11.43</td>\n",
       "    </tr>\n",
       "    <tr>\n",
       "      <td>3</td>\n",
       "      <td>acarau</td>\n",
       "      <td>KZ</td>\n",
       "      <td>-4.97</td>\n",
       "      <td>52.83</td>\n",
       "      <td>70.78</td>\n",
       "      <td>93.0</td>\n",
       "      <td>100.0</td>\n",
       "      <td>17.05</td>\n",
       "    </tr>\n",
       "    <tr>\n",
       "      <td>4</td>\n",
       "      <td>stepnyak</td>\n",
       "      <td>ZA</td>\n",
       "      <td>74.41</td>\n",
       "      <td>-33.93</td>\n",
       "      <td>18.42</td>\n",
       "      <td>53.0</td>\n",
       "      <td>0.0</td>\n",
       "      <td>14.99</td>\n",
       "    </tr>\n",
       "    <tr>\n",
       "      <td>...</td>\n",
       "      <td>...</td>\n",
       "      <td>...</td>\n",
       "      <td>...</td>\n",
       "      <td>...</td>\n",
       "      <td>...</td>\n",
       "      <td>...</td>\n",
       "      <td>...</td>\n",
       "      <td>...</td>\n",
       "    </tr>\n",
       "    <tr>\n",
       "      <td>567</td>\n",
       "      <td>port macquarie</td>\n",
       "      <td>LY</td>\n",
       "      <td>64.44</td>\n",
       "      <td>29.03</td>\n",
       "      <td>21.55</td>\n",
       "      <td>38.0</td>\n",
       "      <td>0.0</td>\n",
       "      <td>10.96</td>\n",
       "    </tr>\n",
       "    <tr>\n",
       "      <td>568</td>\n",
       "      <td>bose</td>\n",
       "      <td>US</td>\n",
       "      <td>39.63</td>\n",
       "      <td>40.77</td>\n",
       "      <td>-72.85</td>\n",
       "      <td>56.0</td>\n",
       "      <td>90.0</td>\n",
       "      <td>13.87</td>\n",
       "    </tr>\n",
       "    <tr>\n",
       "      <td>569</td>\n",
       "      <td>coahuayana</td>\n",
       "      <td>QA</td>\n",
       "      <td>64.90</td>\n",
       "      <td>25.29</td>\n",
       "      <td>51.53</td>\n",
       "      <td>68.0</td>\n",
       "      <td>0.0</td>\n",
       "      <td>5.82</td>\n",
       "    </tr>\n",
       "    <tr>\n",
       "      <td>570</td>\n",
       "      <td>pisco</td>\n",
       "      <td>BR</td>\n",
       "      <td>87.01</td>\n",
       "      <td>-22.12</td>\n",
       "      <td>-45.05</td>\n",
       "      <td>53.0</td>\n",
       "      <td>33.0</td>\n",
       "      <td>3.00</td>\n",
       "    </tr>\n",
       "    <tr>\n",
       "      <td>571</td>\n",
       "      <td>aljezur</td>\n",
       "      <td>RU</td>\n",
       "      <td>-16.60</td>\n",
       "      <td>61.17</td>\n",
       "      <td>73.17</td>\n",
       "      <td>75.0</td>\n",
       "      <td>99.0</td>\n",
       "      <td>8.95</td>\n",
       "    </tr>\n",
       "  </tbody>\n",
       "</table>\n",
       "<p>572 rows × 8 columns</p>\n",
       "</div>"
      ],
      "text/plain": [
       "               City Country  Temperature(F)  Latitude  Longitude  Humidity(%)  \\\n",
       "0              hilo      US           62.11     19.73    -155.09         64.0   \n",
       "1         taolanaro      AU           59.07    -42.78     147.06         67.0   \n",
       "2       new norfolk      BR           89.82     -2.89     -40.12         54.0   \n",
       "3            acarau      KZ           -4.97     52.83      70.78         93.0   \n",
       "4          stepnyak      ZA           74.41    -33.93      18.42         53.0   \n",
       "..              ...     ...             ...       ...        ...          ...   \n",
       "567  port macquarie      LY           64.44     29.03      21.55         38.0   \n",
       "568            bose      US           39.63     40.77     -72.85         56.0   \n",
       "569      coahuayana      QA           64.90     25.29      51.53         68.0   \n",
       "570           pisco      BR           87.01    -22.12     -45.05         53.0   \n",
       "571         aljezur      RU          -16.60     61.17      73.17         75.0   \n",
       "\n",
       "     Cloudiness(%)  Windspeed(mph)  \n",
       "0             90.0            8.05  \n",
       "1             40.0            9.17  \n",
       "2             32.0           11.43  \n",
       "3            100.0           17.05  \n",
       "4              0.0           14.99  \n",
       "..             ...             ...  \n",
       "567            0.0           10.96  \n",
       "568           90.0           13.87  \n",
       "569            0.0            5.82  \n",
       "570           33.0            3.00  \n",
       "571           99.0            8.95  \n",
       "\n",
       "[572 rows x 8 columns]"
      ]
     },
     "execution_count": 2,
     "metadata": {},
     "output_type": "execute_result"
    }
   ],
   "source": [
    "# Study data files\n",
    "part_one = \"../weatherpy/Resources/citiesall.csv\"\n",
    "part_one = pd.read_csv(part_one)\n",
    "part_one"
   ]
  },
  {
   "cell_type": "markdown",
   "metadata": {},
   "source": [
    "### Humidity Heatmap\n",
    "* Configure gmaps.\n",
    "* Use the Lat and Lng as locations and Humidity as the weight.\n",
    "* Add Heatmap layer to map."
   ]
  },
  {
   "cell_type": "code",
   "execution_count": 3,
   "metadata": {},
   "outputs": [],
   "source": [
    "# Configure gmaps with API key\n",
    "gmaps.configure(api_key=g_key)\n"
   ]
  },
  {
   "cell_type": "code",
   "execution_count": 4,
   "metadata": {},
   "outputs": [],
   "source": [
    "# Store 'Lat' and 'Lng' into  locations \n",
    "locations = part_one[[\"Latitude\", \"Longitude\"]]\n",
    "humi = part_one[\"Humidity(%)\"].astype(float)\n"
   ]
  },
  {
   "cell_type": "code",
   "execution_count": 5,
   "metadata": {},
   "outputs": [],
   "source": [
    "part_one = part_one.dropna()\n"
   ]
  },
  {
   "cell_type": "code",
   "execution_count": 6,
   "metadata": {},
   "outputs": [
    {
     "data": {
      "application/vnd.jupyter.widget-view+json": {
       "model_id": "a01a87bbe6674d1788b520b1253a9dee",
       "version_major": 2,
       "version_minor": 0
      },
      "text/plain": [
       "Figure(layout=FigureLayout(height='420px'))"
      ]
     },
     "metadata": {},
     "output_type": "display_data"
    }
   ],
   "source": [
    "fig = gmaps.figure(center=(20.0,0.0),zoom_level=2)\n",
    "\n",
    "heat_layer = gmaps.heatmap_layer(locations, weights=humi, dissipating = False, max_intensity=50, point_radius = 2)\n",
    "\n",
    "fig.add_layer(heat_layer)\n",
    "\n",
    "fig"
   ]
  },
  {
   "cell_type": "markdown",
   "metadata": {},
   "source": [
    "### Create new DataFrame fitting weather criteria\n",
    "* Narrow down the cities to fit weather conditions.\n",
    "* Drop any rows will null values."
   ]
  },
  {
   "cell_type": "code",
   "execution_count": 7,
   "metadata": {},
   "outputs": [],
   "source": [
    "#ideal vacation conditions:1. max temperature 75<x<90 2. Cloudiness <20% 3. Humidity <40%\n"
   ]
  },
  {
   "cell_type": "code",
   "execution_count": 8,
   "metadata": {},
   "outputs": [
    {
     "data": {
      "text/html": [
       "<div>\n",
       "<style scoped>\n",
       "    .dataframe tbody tr th:only-of-type {\n",
       "        vertical-align: middle;\n",
       "    }\n",
       "\n",
       "    .dataframe tbody tr th {\n",
       "        vertical-align: top;\n",
       "    }\n",
       "\n",
       "    .dataframe thead th {\n",
       "        text-align: right;\n",
       "    }\n",
       "</style>\n",
       "<table border=\"1\" class=\"dataframe\">\n",
       "  <thead>\n",
       "    <tr style=\"text-align: right;\">\n",
       "      <th></th>\n",
       "      <th>index</th>\n",
       "      <th>City</th>\n",
       "      <th>Country</th>\n",
       "      <th>Temperature(F)</th>\n",
       "      <th>Latitude</th>\n",
       "      <th>Longitude</th>\n",
       "      <th>Humidity(%)</th>\n",
       "      <th>Cloudiness(%)</th>\n",
       "      <th>Windspeed(mph)</th>\n",
       "    </tr>\n",
       "  </thead>\n",
       "  <tbody>\n",
       "    <tr>\n",
       "      <td>0</td>\n",
       "      <td>363</td>\n",
       "      <td>paamiut</td>\n",
       "      <td>AR</td>\n",
       "      <td>88.66</td>\n",
       "      <td>-35.73</td>\n",
       "      <td>-61.75</td>\n",
       "      <td>17.0</td>\n",
       "      <td>0.0</td>\n",
       "      <td>17.11</td>\n",
       "    </tr>\n",
       "    <tr>\n",
       "      <td>1</td>\n",
       "      <td>376</td>\n",
       "      <td>esil</td>\n",
       "      <td>AR</td>\n",
       "      <td>88.14</td>\n",
       "      <td>-38.37</td>\n",
       "      <td>-60.28</td>\n",
       "      <td>19.0</td>\n",
       "      <td>0.0</td>\n",
       "      <td>23.44</td>\n",
       "    </tr>\n",
       "    <tr>\n",
       "      <td>2</td>\n",
       "      <td>463</td>\n",
       "      <td>hobyo</td>\n",
       "      <td>BW</td>\n",
       "      <td>88.23</td>\n",
       "      <td>-20.18</td>\n",
       "      <td>25.23</td>\n",
       "      <td>36.0</td>\n",
       "      <td>5.0</td>\n",
       "      <td>7.87</td>\n",
       "    </tr>\n",
       "    <tr>\n",
       "      <td>3</td>\n",
       "      <td>501</td>\n",
       "      <td>akureyri</td>\n",
       "      <td>UY</td>\n",
       "      <td>80.06</td>\n",
       "      <td>-34.48</td>\n",
       "      <td>-54.33</td>\n",
       "      <td>26.0</td>\n",
       "      <td>0.0</td>\n",
       "      <td>9.15</td>\n",
       "    </tr>\n",
       "  </tbody>\n",
       "</table>\n",
       "</div>"
      ],
      "text/plain": [
       "   index      City Country  Temperature(F)  Latitude  Longitude  Humidity(%)  \\\n",
       "0    363   paamiut      AR           88.66    -35.73     -61.75         17.0   \n",
       "1    376      esil      AR           88.14    -38.37     -60.28         19.0   \n",
       "2    463     hobyo      BW           88.23    -20.18      25.23         36.0   \n",
       "3    501  akureyri      UY           80.06    -34.48     -54.33         26.0   \n",
       "\n",
       "   Cloudiness(%)  Windspeed(mph)  \n",
       "0            0.0           17.11  \n",
       "1            0.0           23.44  \n",
       "2            5.0            7.87  \n",
       "3            0.0            9.15  "
      ]
     },
     "execution_count": 8,
     "metadata": {},
     "output_type": "execute_result"
    }
   ],
   "source": [
    "ideal_df=part_one[(part_one['Temperature(F)']>75) & (part_one['Temperature(F)']<90) & (part_one['Humidity(%)']<40) & (part_one['Cloudiness(%)']<20)]\n",
    "ideal_df.reset_index()"
   ]
  },
  {
   "cell_type": "markdown",
   "metadata": {},
   "source": [
    "### Hotel Map\n",
    "* Store into variable named `hotel_df`.\n",
    "* Add a \"Hotel Name\" column to the DataFrame.\n",
    "* Set parameters to search for hotels with 5000 meters.\n",
    "* Hit the Google Places API for each city's coordinates.\n",
    "* Store the first Hotel result into the DataFrame.\n",
    "* Plot markers on top of the heatmap."
   ]
  },
  {
   "cell_type": "code",
   "execution_count": 15,
   "metadata": {},
   "outputs": [
    {
     "data": {
      "text/html": [
       "<div>\n",
       "<style scoped>\n",
       "    .dataframe tbody tr th:only-of-type {\n",
       "        vertical-align: middle;\n",
       "    }\n",
       "\n",
       "    .dataframe tbody tr th {\n",
       "        vertical-align: top;\n",
       "    }\n",
       "\n",
       "    .dataframe thead th {\n",
       "        text-align: right;\n",
       "    }\n",
       "</style>\n",
       "<table border=\"1\" class=\"dataframe\">\n",
       "  <thead>\n",
       "    <tr style=\"text-align: right;\">\n",
       "      <th></th>\n",
       "      <th>index</th>\n",
       "      <th>City</th>\n",
       "      <th>Country</th>\n",
       "      <th>Latitude</th>\n",
       "      <th>Longitude</th>\n",
       "      <th>Hotel Name</th>\n",
       "    </tr>\n",
       "  </thead>\n",
       "  <tbody>\n",
       "    <tr>\n",
       "      <td>0</td>\n",
       "      <td>363</td>\n",
       "      <td>paamiut</td>\n",
       "      <td>AR</td>\n",
       "      <td>-35.73</td>\n",
       "      <td>-61.75</td>\n",
       "      <td></td>\n",
       "    </tr>\n",
       "    <tr>\n",
       "      <td>1</td>\n",
       "      <td>376</td>\n",
       "      <td>esil</td>\n",
       "      <td>AR</td>\n",
       "      <td>-38.37</td>\n",
       "      <td>-60.28</td>\n",
       "      <td></td>\n",
       "    </tr>\n",
       "    <tr>\n",
       "      <td>2</td>\n",
       "      <td>463</td>\n",
       "      <td>hobyo</td>\n",
       "      <td>BW</td>\n",
       "      <td>-20.18</td>\n",
       "      <td>25.23</td>\n",
       "      <td></td>\n",
       "    </tr>\n",
       "    <tr>\n",
       "      <td>3</td>\n",
       "      <td>501</td>\n",
       "      <td>akureyri</td>\n",
       "      <td>UY</td>\n",
       "      <td>-34.48</td>\n",
       "      <td>-54.33</td>\n",
       "      <td></td>\n",
       "    </tr>\n",
       "  </tbody>\n",
       "</table>\n",
       "</div>"
      ],
      "text/plain": [
       "   index      City Country  Latitude  Longitude Hotel Name\n",
       "0    363   paamiut      AR    -35.73     -61.75           \n",
       "1    376      esil      AR    -38.37     -60.28           \n",
       "2    463     hobyo      BW    -20.18      25.23           \n",
       "3    501  akureyri      UY    -34.48     -54.33           "
      ]
     },
     "execution_count": 15,
     "metadata": {},
     "output_type": "execute_result"
    }
   ],
   "source": [
    "hotel_df=pd.DataFrame(ideal_df,columns=['City','Country','Latitude','Longitude'])\n",
    "hotel_df['Hotel Name']= \"\"\n",
    "hotel_df.dropna()\n",
    "hotel_df.reset_index()\n",
    "\n"
   ]
  },
  {
   "cell_type": "code",
   "execution_count": 17,
   "metadata": {
    "scrolled": true
   },
   "outputs": [
    {
     "name": "stdout",
     "output_type": "stream",
     "text": [
      "Missing field/result... skipping.\n",
      "The closest hotel to esil is Habitacion Triple con baño y entrada privada\n",
      "The closest hotel to hobyo is Gweta Lodge\n",
      "The closest hotel to akureyri is Beleza Pura B&B\n"
     ]
    }
   ],
   "source": [
    "hotel_name=[]\n",
    "target_type = \"lodging\"\n",
    "radius = 5000\n",
    "\n",
    "params = {\n",
    "    \"types\": target_type,\n",
    "    \"radius\": radius,\n",
    "    \"key\": g_key\n",
    "}\n",
    "   # Use the lat/lng we recovered to identify airports\n",
    "for index, row in hotel_df.iterrows():\n",
    "    \n",
    "    # get lat, lng from df\n",
    "    lat = row[\"Latitude\"]\n",
    "    lng = row[\"Longitude\"]\n",
    "    \n",
    "    params[\"location\"] = f\"{lat},{lng}\"\n",
    "      \n",
    "    base_url = \"https://maps.googleapis.com/maps/api/place/nearbysearch/json\"\n",
    "    response = requests.get(base_url, params=params)\n",
    "    response_json=response.json()\n",
    "    #pprint(response_json)\n",
    "    try: \n",
    "        hotel_name.append(response_json['results'][0]['name'])\n",
    "    \n",
    "        hotel_df.loc[index, \"Hotel Name\"] = response_json[\"results\"][0][\"name\"]\n",
    "    \n",
    "        print(f\"The closest hotel to {row[0]} is {response_json['results'][0]['name']}\")  \n",
    "    except (KeyError, IndexError):\n",
    "        print(\"Missing field/result... skipping.\")"
   ]
  },
  {
   "cell_type": "code",
   "execution_count": 18,
   "metadata": {},
   "outputs": [
    {
     "data": {
      "text/html": [
       "<div>\n",
       "<style scoped>\n",
       "    .dataframe tbody tr th:only-of-type {\n",
       "        vertical-align: middle;\n",
       "    }\n",
       "\n",
       "    .dataframe tbody tr th {\n",
       "        vertical-align: top;\n",
       "    }\n",
       "\n",
       "    .dataframe thead th {\n",
       "        text-align: right;\n",
       "    }\n",
       "</style>\n",
       "<table border=\"1\" class=\"dataframe\">\n",
       "  <thead>\n",
       "    <tr style=\"text-align: right;\">\n",
       "      <th></th>\n",
       "      <th>index</th>\n",
       "      <th>City</th>\n",
       "      <th>Country</th>\n",
       "      <th>Latitude</th>\n",
       "      <th>Longitude</th>\n",
       "      <th>Hotel Name</th>\n",
       "    </tr>\n",
       "  </thead>\n",
       "  <tbody>\n",
       "    <tr>\n",
       "      <td>0</td>\n",
       "      <td>363</td>\n",
       "      <td>paamiut</td>\n",
       "      <td>AR</td>\n",
       "      <td>-35.73</td>\n",
       "      <td>-61.75</td>\n",
       "      <td></td>\n",
       "    </tr>\n",
       "    <tr>\n",
       "      <td>1</td>\n",
       "      <td>376</td>\n",
       "      <td>esil</td>\n",
       "      <td>AR</td>\n",
       "      <td>-38.37</td>\n",
       "      <td>-60.28</td>\n",
       "      <td>Habitacion Triple con baño y entrada privada</td>\n",
       "    </tr>\n",
       "    <tr>\n",
       "      <td>2</td>\n",
       "      <td>463</td>\n",
       "      <td>hobyo</td>\n",
       "      <td>BW</td>\n",
       "      <td>-20.18</td>\n",
       "      <td>25.23</td>\n",
       "      <td>Gweta Lodge</td>\n",
       "    </tr>\n",
       "    <tr>\n",
       "      <td>3</td>\n",
       "      <td>501</td>\n",
       "      <td>akureyri</td>\n",
       "      <td>UY</td>\n",
       "      <td>-34.48</td>\n",
       "      <td>-54.33</td>\n",
       "      <td>Beleza Pura B&amp;B</td>\n",
       "    </tr>\n",
       "  </tbody>\n",
       "</table>\n",
       "</div>"
      ],
      "text/plain": [
       "   index      City Country  Latitude  Longitude  \\\n",
       "0    363   paamiut      AR    -35.73     -61.75   \n",
       "1    376      esil      AR    -38.37     -60.28   \n",
       "2    463     hobyo      BW    -20.18      25.23   \n",
       "3    501  akureyri      UY    -34.48     -54.33   \n",
       "\n",
       "                                     Hotel Name  \n",
       "0                                                \n",
       "1  Habitacion Triple con baño y entrada privada  \n",
       "2                                   Gweta Lodge  \n",
       "3                               Beleza Pura B&B  "
      ]
     },
     "execution_count": 18,
     "metadata": {},
     "output_type": "execute_result"
    }
   ],
   "source": [
    "hotel_df\n",
    "hotel_df_new=hotel_df.dropna()\n",
    "hotel_df_new.reset_index()"
   ]
  },
  {
   "cell_type": "code",
   "execution_count": 19,
   "metadata": {},
   "outputs": [],
   "source": [
    "# NOTE: Do not change any of the code in this cell\n",
    "\n",
    "# Using the template add the hotel marks to the heatmap\n",
    "info_box_template = \"\"\"\n",
    "<dl>\n",
    "<dt>Name</dt><dd>{Hotel Name}</dd>\n",
    "<dt>City</dt><dd>{City}</dd>\n",
    "<dt>Country</dt><dd>{Country}</dd>\n",
    "</dl>\n",
    "\"\"\"\n",
    "# Store the DataFrame Row\n",
    "# NOTE: be sure to update with your DataFrame name\n",
    "hotel_info = [info_box_template.format(**row) for index, row in hotel_df_new.iterrows()]\n",
    "locations = ideal_df[[\"Latitude\", \"Longitude\"]]"
   ]
  },
  {
   "cell_type": "code",
   "execution_count": 20,
   "metadata": {},
   "outputs": [
    {
     "data": {
      "application/vnd.jupyter.widget-view+json": {
       "model_id": "bf46db9f19f8441c915d51a2edd22dce",
       "version_major": 2,
       "version_minor": 0
      },
      "text/plain": [
       "Figure(layout=FigureLayout(height='420px'))"
      ]
     },
     "metadata": {},
     "output_type": "display_data"
    }
   ],
   "source": [
    "# Add marker layer ontop of heat map\n",
    "\n",
    "fig = gmaps.figure()\n",
    "markers = gmaps.marker_layer(locations, info_box_content=hotel_info)\n",
    "fig.add_layer(markers)\n",
    "\n",
    "\n",
    "fig\n",
    "\n",
    "        \n"
   ]
  },
  {
   "cell_type": "code",
   "execution_count": 21,
   "metadata": {},
   "outputs": [
    {
     "data": {
      "application/vnd.jupyter.widget-view+json": {
       "model_id": "5d072ef6a3c54a28bf4b222bf9382095",
       "version_major": 2,
       "version_minor": 0
      },
      "text/plain": [
       "Figure(layout=FigureLayout(height='420px'))"
      ]
     },
     "metadata": {},
     "output_type": "display_data"
    }
   ],
   "source": [
    "fig = gmaps.figure(center=(20.0,0.0),zoom_level=1)\n",
    "\n",
    "fig.add_layer(heat_layer)\n",
    "fig.add_layer(markers)\n",
    "\n",
    "fig"
   ]
  },
  {
   "cell_type": "code",
   "execution_count": null,
   "metadata": {},
   "outputs": [],
   "source": []
  }
 ],
 "metadata": {
  "kernelspec": {
   "display_name": "Python 3",
   "language": "python",
   "name": "python3"
  },
  "language_info": {
   "codemirror_mode": {
    "name": "ipython",
    "version": 3
   },
   "file_extension": ".py",
   "mimetype": "text/x-python",
   "name": "python",
   "nbconvert_exporter": "python",
   "pygments_lexer": "ipython3",
   "version": "3.7.4"
  },
  "latex_envs": {
   "LaTeX_envs_menu_present": true,
   "autoclose": false,
   "autocomplete": true,
   "bibliofile": "biblio.bib",
   "cite_by": "apalike",
   "current_citInitial": 1,
   "eqLabelWithNumbers": true,
   "eqNumInitial": 1,
   "hotkeys": {
    "equation": "Ctrl-E",
    "itemize": "Ctrl-I"
   },
   "labels_anchors": false,
   "latex_user_defs": false,
   "report_style_numbering": false,
   "user_envs_cfg": false
  }
 },
 "nbformat": 4,
 "nbformat_minor": 2
}
